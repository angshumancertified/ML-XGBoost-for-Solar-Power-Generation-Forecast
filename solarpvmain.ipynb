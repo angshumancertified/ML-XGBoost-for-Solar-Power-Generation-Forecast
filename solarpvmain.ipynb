{
  "nbformat": 4,
  "nbformat_minor": 0,
  "metadata": {
    "colab": {
      "provenance": [],
      "authorship_tag": "ABX9TyPlITrJ5tobu5ihHI5VkJKP",
      "include_colab_link": true
    },
    "kernelspec": {
      "name": "python3",
      "display_name": "Python 3"
    },
    "language_info": {
      "name": "python"
    }
  },
  "cells": [
    {
      "cell_type": "markdown",
      "metadata": {
        "id": "view-in-github",
        "colab_type": "text"
      },
      "source": [
        "<a href=\"https://colab.research.google.com/github/ashplosive/Solar-PV-forecast-with-Machine-Learning-/blob/main/solarpvmain.ipynb\" target=\"_parent\"><img src=\"https://colab.research.google.com/assets/colab-badge.svg\" alt=\"Open In Colab\"/></a>"
      ]
    },
    {
      "cell_type": "markdown",
      "source": [
        "# Importing Dependencies"
      ],
      "metadata": {
        "id": "THNpIJBGs_kR"
      }
    },
    {
      "cell_type": "code",
      "execution_count": 44,
      "metadata": {
        "id": "Wdf_c3vZs5Bq"
      },
      "outputs": [],
      "source": [
        "import pandas as pd\n",
        "import numpy as np\n",
        "import tensorflow as tf\n",
        "from tensorflow.keras.models import Sequential\n",
        "from tensorflow.keras.layers import LSTM, Dense\n",
        "from sklearn.preprocessing import MinMaxScaler\n",
        "import matplotlib.pyplot as plt"
      ]
    },
    {
      "cell_type": "markdown",
      "source": [
        "# Loading data from the Dataset"
      ],
      "metadata": {
        "id": "15JAujDfzKW2"
      }
    },
    {
      "cell_type": "code",
      "source": [
        "filepath = '/content/Plant_1_Generation_Data.csv' #load the filepath from the files section\n",
        "df = pd.read_csv(filepath)\n",
        "\n",
        "# printing the first few rows of the csv file to identify the features\n",
        "print(df.head(-50))\n",
        "\n",
        "#assigning net current to total yeild column of the csv dataset\n",
        "net_current = df[\"TOTAL_YIELD\"]"
      ],
      "metadata": {
        "colab": {
          "base_uri": "https://localhost:8080/"
        },
        "id": "8kvy87o6zPqC",
        "outputId": "b2bcb052-dc97-4552-b445-581ae5697dc3"
      },
      "execution_count": 61,
      "outputs": [
        {
          "output_type": "stream",
          "name": "stdout",
          "text": [
            "              DATE_TIME  PLANT_ID       SOURCE_KEY  DC_POWER  AC_POWER  \\\n",
            "0      15-05-2020 00:00   4135001  1BY6WEcLGh8j5v7       0.0       0.0   \n",
            "1      15-05-2020 00:00   4135001  1IF53ai7Xc0U56Y       0.0       0.0   \n",
            "2      15-05-2020 00:00   4135001  3PZuoBAID5Wc2HD       0.0       0.0   \n",
            "3      15-05-2020 00:00   4135001  7JYdWkrLSPkdwr4       0.0       0.0   \n",
            "4      15-05-2020 00:00   4135001  McdE0feGgRqW7Ca       0.0       0.0   \n",
            "...                 ...       ...              ...       ...       ...   \n",
            "68723  17-06-2020 23:15   4135001  bvBOhCH3iADSZry       0.0       0.0   \n",
            "68724  17-06-2020 23:15   4135001  iCRJl6heRkivqQ3       0.0       0.0   \n",
            "68725  17-06-2020 23:15   4135001  ih0vzX44oOqAx2f       0.0       0.0   \n",
            "68726  17-06-2020 23:15   4135001  pkci93gMrogZuBj       0.0       0.0   \n",
            "68727  17-06-2020 23:15   4135001  rGa61gmuvPhdLxV       0.0       0.0   \n",
            "\n",
            "       DAILY_YIELD  TOTAL_YIELD  \n",
            "0              0.0    6259559.0  \n",
            "1              0.0    6183645.0  \n",
            "2              0.0    6987759.0  \n",
            "3              0.0    7602960.0  \n",
            "4              0.0    7158964.0  \n",
            "...            ...          ...  \n",
            "68723       5460.0    6539009.0  \n",
            "68724       5957.0    7426263.0  \n",
            "68725       5758.0    6426129.0  \n",
            "68726       5952.0    7415430.0  \n",
            "68727       5950.0    7356897.0  \n",
            "\n",
            "[68728 rows x 7 columns]\n"
          ]
        }
      ]
    },
    {
      "cell_type": "markdown",
      "source": [
        "# Scaling data between 0 and 1"
      ],
      "metadata": {
        "id": "O4Rri6-71MZC"
      }
    },
    {
      "cell_type": "code",
      "source": [
        "scaler = MinMaxScaler(feature_range=(0,1))\n",
        "scaled_net_current = scaler.fit_transform(net_current.values.reshape(-1,1))"
      ],
      "metadata": {
        "id": "k4HKSsvG1L3j"
      },
      "execution_count": 46,
      "outputs": []
    },
    {
      "cell_type": "markdown",
      "source": [
        "Defining Parameters"
      ],
      "metadata": {
        "id": "aa_LhL_52AnZ"
      }
    },
    {
      "cell_type": "code",
      "source": [
        "look_back = 10\n",
        "epochs = 100"
      ],
      "metadata": {
        "id": "yWlvRYsA2E6f"
      },
      "execution_count": 47,
      "outputs": []
    },
    {
      "cell_type": "markdown",
      "source": [
        "Create sequences for training"
      ],
      "metadata": {
        "id": "YbQQoLAwzbW4"
      }
    },
    {
      "cell_type": "code",
      "source": [
        "X, Y = [], []\n",
        "for i in range(look_back, len(scaled_net_current)):\n",
        "  X.append(scaled_net_current[i-look_back:i,0])\n",
        "  Y.append(scaled_net_current[i,0])\n",
        "\n",
        "X = np.array(X)\n",
        "Y = np.array(Y)"
      ],
      "metadata": {
        "id": "-xv0jgvi2VZo"
      },
      "execution_count": 49,
      "outputs": []
    },
    {
      "cell_type": "markdown",
      "source": [
        "Reshape input for LSTM"
      ],
      "metadata": {
        "id": "TDoQ8JNU3Iuy"
      }
    },
    {
      "cell_type": "code",
      "source": [
        "model = Sequential()\n",
        "model.add(LSTM(50, return_sequences = True, input_shape = (X.shape[1], 1)))\n",
        "model.add(LSTM(50))\n",
        "model.add(Dense(1))\n",
        "model.compile(loss=\"mse\", optimizer=\"adam\")"
      ],
      "metadata": {
        "id": "L385PtYD3MOp"
      },
      "execution_count": 51,
      "outputs": []
    },
    {
      "cell_type": "markdown",
      "source": [
        "Train the model"
      ],
      "metadata": {
        "id": "nVfCetIU327K"
      }
    },
    {
      "cell_type": "code",
      "source": [
        "model.fit(X,Y,epochs=epochs, batch_size=32)"
      ],
      "metadata": {
        "id": "3oqjeasy32fp"
      },
      "execution_count": null,
      "outputs": []
    },
    {
      "cell_type": "markdown",
      "source": [
        "Make predictions on new data"
      ],
      "metadata": {
        "id": "44zftCwm4KJ2"
      }
    },
    {
      "cell_type": "code",
      "source": [
        "new_data = scaled_net_current[-look_back:]  # Last look_back values for prediction\n",
        "new_data = new_data.reshape(1, look_back, 1)\n",
        "predicted_net_current = model.predict(new_data)"
      ],
      "metadata": {
        "colab": {
          "base_uri": "https://localhost:8080/"
        },
        "id": "GdFC26Gl4hm6",
        "outputId": "f4875083-0841-41bb-8411-8e4cece2a913"
      },
      "execution_count": 53,
      "outputs": [
        {
          "output_type": "stream",
          "name": "stdout",
          "text": [
            "1/1 [==============================] - 0s 25ms/step\n"
          ]
        }
      ]
    },
    {
      "cell_type": "markdown",
      "source": [
        "Invert scaling for predicted current and original current"
      ],
      "metadata": {
        "id": "_cFZzsSa4oKp"
      }
    },
    {
      "cell_type": "code",
      "source": [
        "predicted_net_current = scaler.inverse_transform(predicted_net_current)\n",
        "original_net_current = scaler.inverse_transform(scaled_net_current)"
      ],
      "metadata": {
        "id": "3YvHKds94txC"
      },
      "execution_count": 54,
      "outputs": []
    },
    {
      "cell_type": "markdown",
      "source": [
        "Prepare data for plotting"
      ],
      "metadata": {
        "id": "VwROIBSu48E-"
      }
    },
    {
      "cell_type": "code",
      "source": [
        "time_steps = range(len(original_net_current))"
      ],
      "metadata": {
        "id": "3YLmUQgZ4_tf"
      },
      "execution_count": 55,
      "outputs": []
    },
    {
      "cell_type": "markdown",
      "source": [
        "Plot the historical data, forecast and predicted data"
      ],
      "metadata": {
        "id": "o36dqdxt5KS_"
      }
    },
    {
      "cell_type": "code",
      "source": [
        "plt.plot(time_steps[:look_back], original_net_current[:look_back], color='blue', label='Historical Data')\n",
        "plt.plot(time_steps[-1], predicted_net_current[0][0], marker='o', color='red', label='Predicted Value')\n",
        "plt.xlabel('Net Curent')\n",
        "plt.ylabel('')\n",
        "plt.legend()\n",
        "plt.show()"
      ],
      "metadata": {
        "colab": {
          "base_uri": "https://localhost:8080/",
          "height": 465
        },
        "id": "-iRZg0Pk5Pt5",
        "outputId": "d33c9e38-b478-4267-d577-e55db10288c0"
      },
      "execution_count": 59,
      "outputs": [
        {
          "output_type": "display_data",
          "data": {
            "text/plain": [
              "<Figure size 640x480 with 1 Axes>"
            ],
            "image/png": "[encoded data removed]"
          },
          "metadata": {}
        }
      ]
    }
  ]
}